{
 "cells": [
  {
   "cell_type": "code",
   "execution_count": null,
   "metadata": {},
   "outputs": [],
   "source": [
    "!pip install scikit-surprise\n",
    "!pip install seaborn\n",
    "!pip install sklearn\n",
    "!pip install xgboost"
   ]
  },
  {
   "cell_type": "code",
   "execution_count": null,
   "metadata": {},
   "outputs": [],
   "source": [
    "from datetime import datetime\n",
    "import pandas as pd\n",
    "import numpy as np\n",
    "import seaborn as sns\n",
    "import os\n",
    "import random\n",
    "import matplotlib\n",
    "import matplotlib.pyplot as plt\n",
    "from scipy import sparse\n",
    "from sklearn.metrics.pairwise import cosine_similarity\n",
    "from sklearn.metrics import mean_squared_error\n",
    "\n",
    "import xgboost as xgb\n",
    "from surprise import Reader, Dataset\n",
    "from surprise import BaselineOnly\n",
    "from surprise import KNNBaseline\n",
    "from surprise import SVD\n",
    "from surprise import SVDpp\n",
    "from surprise.model_selection import GridSearchCV"
   ]
  },
  {
   "cell_type": "code",
   "execution_count": 58,
   "metadata": {},
   "outputs": [],
   "source": [
    "def load_data():\n",
    "    df = pd.read_csv('./scraper/sample_data/qq.txt', header=0, sep=\",\", names = [\"reviewerId\",\"stars\",\"artistId\",\"artistName\",\"albumId\",\"albumName\"])\n",
    "    df1 = df[['albumId', 'reviewerId', 'stars']]\n",
    "    return df1"
   ]
  },
  {
   "cell_type": "code",
   "execution_count": 60,
   "metadata": {},
   "outputs": [
    {
     "data": {
      "text/html": [
       "<div>\n",
       "<style scoped>\n",
       "    .dataframe tbody tr th:only-of-type {\n",
       "        vertical-align: middle;\n",
       "    }\n",
       "\n",
       "    .dataframe tbody tr th {\n",
       "        vertical-align: top;\n",
       "    }\n",
       "\n",
       "    .dataframe thead th {\n",
       "        text-align: right;\n",
       "    }\n",
       "</style>\n",
       "<table border=\"1\" class=\"dataframe\">\n",
       "  <thead>\n",
       "    <tr style=\"text-align: right;\">\n",
       "      <th></th>\n",
       "      <th>albumId</th>\n",
       "      <th>reviewerId</th>\n",
       "      <th>stars</th>\n",
       "    </tr>\n",
       "  </thead>\n",
       "  <tbody>\n",
       "    <tr>\n",
       "      <th>0</th>\n",
       "      <td>5751</td>\n",
       "      <td>1636</td>\n",
       "      <td>4</td>\n",
       "    </tr>\n",
       "    <tr>\n",
       "      <th>1</th>\n",
       "      <td>17838</td>\n",
       "      <td>13226</td>\n",
       "      <td>4</td>\n",
       "    </tr>\n",
       "    <tr>\n",
       "      <th>2</th>\n",
       "      <td>1214</td>\n",
       "      <td>21963</td>\n",
       "      <td>4</td>\n",
       "    </tr>\n",
       "    <tr>\n",
       "      <th>3</th>\n",
       "      <td>53009</td>\n",
       "      <td>17999</td>\n",
       "      <td>3</td>\n",
       "    </tr>\n",
       "    <tr>\n",
       "      <th>4</th>\n",
       "      <td>5331</td>\n",
       "      <td>23451</td>\n",
       "      <td>4</td>\n",
       "    </tr>\n",
       "  </tbody>\n",
       "</table>\n",
       "</div>"
      ],
      "text/plain": [
       "   albumId  reviewerId  stars\n",
       "0     5751        1636      4\n",
       "1    17838       13226      4\n",
       "2     1214       21963      4\n",
       "3    53009       17999      3\n",
       "4     5331       23451      4"
      ]
     },
     "execution_count": 60,
     "metadata": {},
     "output_type": "execute_result"
    }
   ],
   "source": [
    "prograrchives_df = load_data()\n",
    "prograrchives_df.head()"
   ]
  },
  {
   "cell_type": "code",
   "execution_count": 63,
   "metadata": {},
   "outputs": [
    {
     "data": {
      "text/html": [
       "<div>\n",
       "<style scoped>\n",
       "    .dataframe tbody tr th:only-of-type {\n",
       "        vertical-align: middle;\n",
       "    }\n",
       "\n",
       "    .dataframe tbody tr th {\n",
       "        vertical-align: top;\n",
       "    }\n",
       "\n",
       "    .dataframe thead th {\n",
       "        text-align: right;\n",
       "    }\n",
       "</style>\n",
       "<table border=\"1\" class=\"dataframe\">\n",
       "  <thead>\n",
       "    <tr style=\"text-align: right;\">\n",
       "      <th></th>\n",
       "      <th>albumId</th>\n",
       "      <th>reviewerId</th>\n",
       "      <th>stars</th>\n",
       "    </tr>\n",
       "  </thead>\n",
       "  <tbody>\n",
       "    <tr>\n",
       "      <th>293157</th>\n",
       "      <td>12721</td>\n",
       "      <td>16919</td>\n",
       "      <td>0</td>\n",
       "    </tr>\n",
       "    <tr>\n",
       "      <th>296812</th>\n",
       "      <td>14893</td>\n",
       "      <td>18432</td>\n",
       "      <td>0</td>\n",
       "    </tr>\n",
       "    <tr>\n",
       "      <th>363732</th>\n",
       "      <td>21877</td>\n",
       "      <td>24690</td>\n",
       "      <td>0</td>\n",
       "    </tr>\n",
       "    <tr>\n",
       "      <th>433912</th>\n",
       "      <td>11646</td>\n",
       "      <td>20201</td>\n",
       "      <td>0</td>\n",
       "    </tr>\n",
       "  </tbody>\n",
       "</table>\n",
       "</div>"
      ],
      "text/plain": [
       "        albumId  reviewerId  stars\n",
       "293157    12721       16919      0\n",
       "296812    14893       18432      0\n",
       "363732    21877       24690      0\n",
       "433912    11646       20201      0"
      ]
     },
     "execution_count": 63,
     "metadata": {},
     "output_type": "execute_result"
    }
   ],
   "source": [
    "prograrchives_df.loc[prograrchives_df['stars'] == 0]"
   ]
  },
  {
   "cell_type": "code",
   "execution_count": 61,
   "metadata": {},
   "outputs": [
    {
     "name": "stdout",
     "output_type": "stream",
     "text": [
      "20511    7874\n",
      "21348    6916\n",
      "22012    6665\n",
      "3206     5600\n",
      "6701     5235\n",
      "         ... \n",
      "16211       1\n",
      "11061       1\n",
      "4791        1\n",
      "12723       1\n",
      "16376       1\n",
      "Name: reviewerId, Length: 7191, dtype: int64\n",
      "1827    1236\n",
      "1510    1142\n",
      "1903    1073\n",
      "1440    1073\n",
      "1441    1059\n",
      "Name: albumId, dtype: int64\n",
      "4    187046\n",
      "3    131096\n",
      "5    120288\n",
      "2     49320\n",
      "1     14098\n",
      "0         4\n",
      "Name: stars, dtype: int64\n",
      "Total no. of Users = 7191\n",
      "Total no. of Albums = 39539\n",
      "Total no. of Reviews = 501852\n"
     ]
    }
   ],
   "source": [
    "print(prograrchives_df.reviewerId.value_counts());\n",
    "print(prograrchives_df.albumId.value_counts().head());\n",
    "print(prograrchives_df.stars.value_counts());\n",
    "total_users = len(np.unique(prograrchives_df[\"reviewerId\"]));\n",
    "total_albums = len(np.unique(prograrchives_df[\"albumId\"]));\n",
    "total_reviews = len(prograrchives_df);\n",
    "print(\"Total no. of Users = {}\".format(total_users))\n",
    "print(\"Total no. of Albums = {}\".format(total_albums))\n",
    "print(\"Total no. of Reviews = {}\".format(total_reviews))"
   ]
  },
  {
   "cell_type": "code",
   "execution_count": 62,
   "metadata": {},
   "outputs": [
    {
     "name": "stderr",
     "output_type": "stream",
     "text": [
      "/Users/rommelvillagomez/Library/Python/3.7/lib/python/site-packages/ipykernel_launcher.py:8: UserWarning: FixedFormatter should only be used together with FixedLocator\n",
      "  \n"
     ]
    },
    {
     "data": {
      "image/png": "[encoded data removed]",
      "text/plain": [
       "<Figure size 864x576 with 1 Axes>"
      ]
     },
     "metadata": {
      "needs_background": "light"
     },
     "output_type": "display_data"
    }
   ],
   "source": [
    "# split_value = int(len(prograrchives_df) * 0.80)\n",
    "# train_data = prograrchives_df[:split_value]\n",
    "# test_data = prograrchives_df[split_value:]\n",
    "\n",
    "plt.figure(figsize = (12, 8))\n",
    "ax = sns.countplot(x=\"stars\", data=prograrchives_df)\n",
    "\n",
    "ax.set_yticklabels([num for num in ax.get_yticks()])\n",
    "\n",
    "plt.tick_params(labelsize = 15)\n",
    "plt.title(\"Count Ratings\", fontsize = 20)\n",
    "plt.xlabel(\"Ratings\", fontsize = 20)\n",
    "plt.ylabel(\"Number of Ratings\", fontsize = 20)\n",
    "plt.show()"
   ]
  },
  {
   "cell_type": "code",
   "execution_count": null,
   "metadata": {},
   "outputs": [],
   "source": [
    "def get_user_item_sparse_matrix(df):\n",
    "    sparse_data = sparse.csr_matrix((df.stars, (df.reviewerId, df.albumId)))\n",
    "    return sparse_data"
   ]
  },
  {
   "cell_type": "code",
   "execution_count": null,
   "metadata": {},
   "outputs": [],
   "source": [
    "sparse_data = get_user_item_sparse_matrix(prograrchives_df);\n",
    "global_average_rating = sparse_data.sum()/sparse_data.count_nonzero()\n",
    "print(\"Global Average Rating: {}\".format(global_average_rating))"
   ]
  },
  {
   "cell_type": "code",
   "execution_count": null,
   "metadata": {},
   "outputs": [],
   "source": [
    "def get_average_rating(sparse_matrix, is_user):\n",
    "    ax = 1 if is_user else 0\n",
    "    sum_of_ratings = sparse_matrix.sum(axis = ax).A1\n",
    "    no_of_ratings = (sparse_matrix != 0).sum(axis = ax).A1\n",
    "    rows, cols = sparse_matrix.shape\n",
    "    average_ratings = {i: sum_of_ratings[i]/no_of_ratings[i] for i in range(rows if is_user else cols) if no_of_ratings[i] != 0}\n",
    "    return average_ratings"
   ]
  },
  {
   "cell_type": "code",
   "execution_count": null,
   "metadata": {},
   "outputs": [],
   "source": [
    "def get_sample_sparse_matrix(sparse_matrix, no_of_users, no_of_albums):\n",
    "    users, albums, ratings = sparse.find(sparse_matrix)\n",
    "    uniq_users = np.unique(users)\n",
    "    uniq_albums = np.unique(albums)\n",
    "    np.random.seed(15)\n",
    "    user = np.random.choice(uniq_users, no_of_users, replace = False)\n",
    "    album = np.random.choice(uniq_albums, no_of_albums, replace = True)\n",
    "    mask = np.logical_and(np.isin(users, user), np.isin(albums, album))\n",
    "    sparse_matrix = sparse.csr_matrix((ratings[mask], (users[mask], albums[mask])),\n",
    "                                                     shape = (max(user)+1, max(album)+1))\n",
    "    return sparse_matrix"
   ]
  },
  {
   "cell_type": "code",
   "execution_count": null,
   "metadata": {},
   "outputs": [],
   "source": [
    "train_sample_sparse_matrix = get_sample_sparse_matrix(train_sparse_data, 8, 60)\n",
    "test_sparse_matrix_matrix = get_sample_sparse_matrix(test_sparse_data, 8, 20)\n",
    "print(train_sample_sparse_matrix)"
   ]
  },
  {
   "cell_type": "code",
   "execution_count": null,
   "metadata": {},
   "outputs": [],
   "source": [
    "row_index, col_index = train_sparse_data.nonzero()\n",
    "rows = np.unique(row_index)\n",
    "print(rows);"
   ]
  },
  {
   "cell_type": "code",
   "execution_count": null,
   "metadata": {},
   "outputs": [],
   "source": []
  },
  {
   "cell_type": "code",
   "execution_count": null,
   "metadata": {},
   "outputs": [],
   "source": [
    "def compute_user_similarity(sparse_matrix, limit=100):\n",
    "    row_index, col_index = sparse_matrix.nonzero()\n",
    "    rows = np.unique(row_index)\n",
    "    similar_arr = np.zeros(61700).reshape(617,100)\n",
    "\n",
    "    for row in rows[:limit]:\n",
    "        sim = cosine_similarity(sparse_matrix.getrow(row), train_sparse_data).ravel()\n",
    "        similar_indices = sim.argsort()[-limit:]\n",
    "        similar = sim[similar_indices]\n",
    "        similar_arr[row] = similar\n",
    "\n",
    "    return similar_arr"
   ]
  },
  {
   "cell_type": "code",
   "execution_count": null,
   "metadata": {},
   "outputs": [],
   "source": []
  }
 ],
 "metadata": {
  "kernelspec": {
   "display_name": "Python 3",
   "language": "python",
   "name": "python3"
  },
  "language_info": {
   "codemirror_mode": {
    "name": "ipython",
    "version": 3
   },
   "file_extension": ".py",
   "mimetype": "text/x-python",
   "name": "python",
   "nbconvert_exporter": "python",
   "pygments_lexer": "ipython3",
   "version": "3.7.3"
  }
 },
 "nbformat": 4,
 "nbformat_minor": 4
}
