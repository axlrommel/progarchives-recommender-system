{
 "cells": [
  {
   "cell_type": "code",
   "execution_count": 1,
   "metadata": {},
   "outputs": [
    {
     "name": "stdout",
     "output_type": "stream",
     "text": [
      "   reviewerId  albumId  stars\n",
      "0       35915     1922      3\n",
      "1       58828    16595      3\n",
      "2       64342      341      5\n",
      "3       48577      323      3\n",
      "4       48627    41273      3\n"
     ]
    }
   ],
   "source": [
    "import pandas as pd\n",
    "\n",
    "df1 = pd.read_csv('./scraper/data/reviews.txt', sep=\",\", names = [\"reviewerId\",\"stars\",\"artistId\",\"artistName\",\"albumId\",\"albumName\"])\n",
    "df = df1[['reviewerId', 'albumId', 'stars']]\n",
    "print(df.head());\n"
   ]
  },
  {
   "cell_type": "code",
   "execution_count": 7,
   "metadata": {},
   "outputs": [
    {
     "name": "stdout",
     "output_type": "stream",
     "text": [
      "25538    13288\n",
      "57326    10208\n",
      "64154     9861\n",
      "40903     9506\n",
      "32311     9480\n",
      "Name: reviewerId, dtype: int64\n",
      "1827    4429\n",
      "1440    4249\n",
      "1903    4183\n",
      "1510    4131\n",
      "1441    4098\n",
      "Name: albumId, dtype: int64\n",
      "4    633386\n",
      "5    501556\n",
      "3    404999\n",
      "2    135471\n",
      "1     50448\n",
      "0         5\n",
      "Name: stars, dtype: int64\n",
      "Total no. of Users = 19453\n",
      "Total no. of Albums = 50086\n",
      "Total no. of Reviews = 1725865\n"
     ]
    }
   ],
   "source": [
    "import numpy as np\n",
    "\n",
    "print(df.reviewerId.value_counts().head());\n",
    "print(df.albumId.value_counts().head());\n",
    "print(df.stars.value_counts());\n",
    "total_users = len(np.unique(df[\"reviewerId\"]));\n",
    "total_albums = len(np.unique(df[\"albumId\"]));\n",
    "total_reviews = len(df);\n",
    "print(\"Total no. of Users = {}\".format(total_users))\n",
    "print(\"Total no. of Albums = {}\".format(total_albums))\n",
    "print(\"Total no. of Reviews = {}\".format(total_reviews))"
   ]
  },
  {
   "cell_type": "code",
   "execution_count": 51,
   "metadata": {},
   "outputs": [
    {
     "name": "stdout",
     "output_type": "stream",
     "text": [
      "<class 'pandas.core.frame.DataFrame'>\n",
      "Int64Index: 1669536 entries, 0 to 1725864\n",
      "Data columns (total 3 columns):\n",
      " #   Column      Non-Null Count    Dtype\n",
      "---  ------      --------------    -----\n",
      " 0   reviewerId  1669536 non-null  int64\n",
      " 1   albumId     1669536 non-null  int64\n",
      " 2   stars       1669536 non-null  int64\n",
      "dtypes: int64(3)\n",
      "memory usage: 51.0 MB\n",
      "None\n"
     ]
    }
   ],
   "source": [
    "# select reviewers with more than 20 reviews\n",
    "df1 = df.reviewerId.value_counts().rename_axis('unique_values').reset_index(name='counts')\n",
    "df1.columns = ['reviewerId', 'count']\n",
    "df2 = df1.loc[df1['count'] > 20]\n",
    "df3 = df2['reviewerId'].array\n",
    "df4 = df.loc[df['reviewerId'].isin(df3)]\n",
    "print(df4.info())"
   ]
  },
  {
   "cell_type": "code",
   "execution_count": 18,
   "metadata": {},
   "outputs": [],
   "source": [
    "df1 = df.reviewerId.value_counts().rename_axis('unique_values').reset_index(name='counts')\n",
    "df1.columns = ['reviewerId', 'count']\n",
    "df2 = df1.loc[df1['count'] > 20]\n",
    "df2.tail()"
   ]
  },
  {
   "cell_type": "code",
   "execution_count": null,
   "metadata": {},
   "outputs": [],
   "source": []
  }
 ],
 "metadata": {
  "kernelspec": {
   "display_name": "Python 3",
   "language": "python",
   "name": "python3"
  },
  "language_info": {
   "codemirror_mode": {
    "name": "ipython",
    "version": 3
   },
   "file_extension": ".py",
   "mimetype": "text/x-python",
   "name": "python",
   "nbconvert_exporter": "python",
   "pygments_lexer": "ipython3",
   "version": "3.7.3"
  }
 },
 "nbformat": 4,
 "nbformat_minor": 4
}
